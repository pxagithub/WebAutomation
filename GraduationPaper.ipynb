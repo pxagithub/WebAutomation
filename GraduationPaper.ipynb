{
 "cells": [
  {
   "cell_type": "code",
   "execution_count": 54,
   "metadata": {},
   "outputs": [
    {
     "name": "stdout",
     "output_type": "stream",
     "text": [
      "Image source: data:image/png;base64,iVBORw0KGgoAAAANSUhEUgAAAGQAAAAZCAIAAABIPBwcAAACgUlEQVR42r2ZwU3FMAyGswczICSu%0AiBOIKdgAjkicmYYVOHNiAe6MQqU8WW7s/7ed9D3JQqVtnOSr7dh+7ffvZ5Ov789N+vXl5dyzH6W/%0AaXWXQWYnWpyaDz9wX00rOmTRpe0NUy/COjevpmca5Ngv7L5/4H7Iykubsq/Jv61Kis9XhWWNevH7%0Au0pKRoCGn2JWiVeIEn1Yuxk7HVJeIrgIy2rYwbIfhARgpIi4kh1CdpLRMM0rqQoNby4I4rcuoJu7%0Aay3VrQ5rcF94uHrvko+G7ufvFx/3byL5sNUQo9CC5NFAyvIiZvv4fLtJJsCXYHFL16RcZGglDizX%0AHZC7CR3RkIe1/RVY3AA3RmJc60ekoNFWlgltjccOFI8GWMOjgRcK6tqy7PcYbEpfHJXTDLDCQzkL%0ACxmXcNFP52AhGxdAHNbTyysXFG2QG1pkLTyYuHFpN7R3Qs0Illx3B+w3OyzkqhlYdjGdlBvO7USx%0AZZEcggR4BKvT4SIDhU4G1kROL6RINhNYFgl1KD8eGLmBbA6WDV4TCZcLy4aqMI8NYJGihNy0sJDl%0ADm6oDVZyBVfsDvMxSycQYYWwg8VrERSqSNXiuiEaa2HpaMVhDTtJwpIh+Yw06DqQg9yl46Zd+QCP%0AShN7LOoQluxVoE+byfthUlpSqt9x03dUDyJYKE1BsNAiwxbNcA6W6u02532kNsyfUDpmhdX1cDhm%0Aan5egZIqJ9V1yHQqVprCyYZMWIHNweL1XOaIK8Cq3syHD9Qb4ENKnhjC4ms7tWjCBuPhP5+Qrc5F%0Ag7D7Fla4YU6+gzWsb+Wninx3jR8syS2FnpgsSEJkENYKr1IIC49L3okOC36kP9+D1vIPh++PNG36%0AsNgAAAAASUVORK5CYII=\n"
     ]
    }
   ],
   "source": [
    "from selenium import webdriver\n",
    "from selenium.webdriver.common.keys import Keys\n",
    "from selenium.webdriver.common.by import By\n",
    "from selenium.webdriver.support.ui import WebDriverWait\n",
    "from selenium.webdriver.support import expected_conditions as EC\n",
    "from bs4 import BeautifulSoup\n",
    "\n",
    "# 调用 EDGE 浏览器\n",
    "driver = webdriver.Edge()\n",
    "url = \"https://zhxy.jxyjxy.com:8078/lyuapServer/login?service=http://218.87.96.236:4106/shiro-cas\"\n",
    "driver.get(url)\n",
    "\n",
    "# 等待页面加载完成\n",
    "wait = WebDriverWait(driver, 10)\n",
    "wait.until(EC.presence_of_element_located((By.TAG_NAME, 'form')))\n",
    "\n",
    "# 使用WebDriver的page_source属性获取页面源代码\n",
    "page_source = driver.page_source\n",
    "\n",
    "# 使用BeautifulSoup解析页面源代码\n",
    "soup = BeautifulSoup(page_source, 'html.parser')\n",
    "\n",
    "# 直接查找验证码图片元素\n",
    "img = driver.find_element(By.CSS_SELECTOR, 'form img')\n",
    "img_src = img.get_attribute('src')\n",
    "print(\"Image source:\", img_src)\n"
   ]
  },
  {
   "cell_type": "code",
   "execution_count": 51,
   "metadata": {},
   "outputs": [
    {
     "ename": "OSError",
     "evalue": "broken data stream when reading image file",
     "output_type": "error",
     "traceback": [
      "\u001b[1;31m---------------------------------------------------------------------------\u001b[0m",
      "\u001b[1;31mOSError\u001b[0m                                   Traceback (most recent call last)",
      "Cell \u001b[1;32mIn[51], line 64\u001b[0m\n\u001b[0;32m     59\u001b[0m         \u001b[38;5;28;01mreturn\u001b[39;00m expression_text, \u001b[38;5;124m\"\u001b[39m\u001b[38;5;124mError: Unable to evaluate the expression\u001b[39m\u001b[38;5;124m\"\u001b[39m\n\u001b[0;32m     61\u001b[0m \u001b[38;5;28;01mif\u001b[39;00m \u001b[38;5;18m__name__\u001b[39m \u001b[38;5;241m==\u001b[39m \u001b[38;5;124m\"\u001b[39m\u001b[38;5;124m__main__\u001b[39m\u001b[38;5;124m\"\u001b[39m:\n\u001b[0;32m     62\u001b[0m     \u001b[38;5;66;03m# Provide the path to the image containing the math expression\u001b[39;00m\n\u001b[1;32m---> 64\u001b[0m     expression, result \u001b[38;5;241m=\u001b[39m \u001b[43mrecognize_and_calculate_result\u001b[49m\u001b[43m(\u001b[49m\u001b[43mimg_src\u001b[49m\u001b[43m)\u001b[49m\n\u001b[0;32m     66\u001b[0m     \u001b[38;5;28mprint\u001b[39m(\u001b[38;5;124m\"\u001b[39m\u001b[38;5;124mMath Expression:\u001b[39m\u001b[38;5;124m\"\u001b[39m, expression)\n\u001b[0;32m     67\u001b[0m     \u001b[38;5;28mprint\u001b[39m(\u001b[38;5;124m\"\u001b[39m\u001b[38;5;124mResult:\u001b[39m\u001b[38;5;124m\"\u001b[39m, result)\n",
      "Cell \u001b[1;32mIn[51], line 45\u001b[0m, in \u001b[0;36mrecognize_and_calculate_result\u001b[1;34m(img_src)\u001b[0m\n\u001b[0;32m     43\u001b[0m \u001b[38;5;66;03m# Open the image\u001b[39;00m\n\u001b[0;32m     44\u001b[0m image \u001b[38;5;241m=\u001b[39m Image\u001b[38;5;241m.\u001b[39mopen(\u001b[38;5;124m\"\u001b[39m\u001b[38;5;124mtemp_image.png\u001b[39m\u001b[38;5;124m\"\u001b[39m)\n\u001b[1;32m---> 45\u001b[0m \u001b[43mimage\u001b[49m\u001b[38;5;241;43m.\u001b[39;49m\u001b[43mshow\u001b[49m\u001b[43m(\u001b[49m\u001b[43m)\u001b[49m\n\u001b[0;32m     47\u001b[0m \u001b[38;5;66;03m# Apply preprocessing (you can customize this based on your needs)\u001b[39;00m\n\u001b[0;32m     48\u001b[0m image \u001b[38;5;241m=\u001b[39m preprocess_image(image)\n",
      "File \u001b[1;32mc:\\ProgramData\\anaconda3\\lib\\site-packages\\PIL\\Image.py:2485\u001b[0m, in \u001b[0;36mImage.show\u001b[1;34m(self, title)\u001b[0m\n\u001b[0;32m   2465\u001b[0m \u001b[38;5;28;01mdef\u001b[39;00m \u001b[38;5;21mshow\u001b[39m(\u001b[38;5;28mself\u001b[39m, title\u001b[38;5;241m=\u001b[39m\u001b[38;5;28;01mNone\u001b[39;00m):\n\u001b[0;32m   2466\u001b[0m     \u001b[38;5;124;03m\"\"\"\u001b[39;00m\n\u001b[0;32m   2467\u001b[0m \u001b[38;5;124;03m    Displays this image. This method is mainly intended for debugging purposes.\u001b[39;00m\n\u001b[0;32m   2468\u001b[0m \n\u001b[1;32m   (...)\u001b[0m\n\u001b[0;32m   2482\u001b[0m \u001b[38;5;124;03m    :param title: Optional title to use for the image window, where possible.\u001b[39;00m\n\u001b[0;32m   2483\u001b[0m \u001b[38;5;124;03m    \"\"\"\u001b[39;00m\n\u001b[1;32m-> 2485\u001b[0m     \u001b[43m_show\u001b[49m\u001b[43m(\u001b[49m\u001b[38;5;28;43mself\u001b[39;49m\u001b[43m,\u001b[49m\u001b[43m \u001b[49m\u001b[43mtitle\u001b[49m\u001b[38;5;241;43m=\u001b[39;49m\u001b[43mtitle\u001b[49m\u001b[43m)\u001b[49m\n",
      "File \u001b[1;32mc:\\ProgramData\\anaconda3\\lib\\site-packages\\PIL\\Image.py:3508\u001b[0m, in \u001b[0;36m_show\u001b[1;34m(image, **options)\u001b[0m\n\u001b[0;32m   3505\u001b[0m \u001b[38;5;28;01mdef\u001b[39;00m \u001b[38;5;21m_show\u001b[39m(image, \u001b[38;5;241m*\u001b[39m\u001b[38;5;241m*\u001b[39moptions):\n\u001b[0;32m   3506\u001b[0m     \u001b[38;5;28;01mfrom\u001b[39;00m \u001b[38;5;21;01m.\u001b[39;00m \u001b[38;5;28;01mimport\u001b[39;00m ImageShow\n\u001b[1;32m-> 3508\u001b[0m     ImageShow\u001b[38;5;241m.\u001b[39mshow(image, \u001b[38;5;241m*\u001b[39m\u001b[38;5;241m*\u001b[39moptions)\n",
      "File \u001b[1;32mc:\\ProgramData\\anaconda3\\lib\\site-packages\\PIL\\ImageShow.py:62\u001b[0m, in \u001b[0;36mshow\u001b[1;34m(image, title, **options)\u001b[0m\n\u001b[0;32m     53\u001b[0m \u001b[38;5;124mr\u001b[39m\u001b[38;5;124;03m\"\"\"\u001b[39;00m\n\u001b[0;32m     54\u001b[0m \u001b[38;5;124;03mDisplay a given image.\u001b[39;00m\n\u001b[0;32m     55\u001b[0m \n\u001b[1;32m   (...)\u001b[0m\n\u001b[0;32m     59\u001b[0m \u001b[38;5;124;03m:returns: ``True`` if a suitable viewer was found, ``False`` otherwise.\u001b[39;00m\n\u001b[0;32m     60\u001b[0m \u001b[38;5;124;03m\"\"\"\u001b[39;00m\n\u001b[0;32m     61\u001b[0m \u001b[38;5;28;01mfor\u001b[39;00m viewer \u001b[38;5;129;01min\u001b[39;00m _viewers:\n\u001b[1;32m---> 62\u001b[0m     \u001b[38;5;28;01mif\u001b[39;00m viewer\u001b[38;5;241m.\u001b[39mshow(image, title\u001b[38;5;241m=\u001b[39mtitle, \u001b[38;5;241m*\u001b[39m\u001b[38;5;241m*\u001b[39moptions):\n\u001b[0;32m     63\u001b[0m         \u001b[38;5;28;01mreturn\u001b[39;00m \u001b[38;5;28;01mTrue\u001b[39;00m\n\u001b[0;32m     64\u001b[0m \u001b[38;5;28;01mreturn\u001b[39;00m \u001b[38;5;28;01mFalse\u001b[39;00m\n",
      "File \u001b[1;32mc:\\ProgramData\\anaconda3\\lib\\site-packages\\PIL\\ImageShow.py:86\u001b[0m, in \u001b[0;36mViewer.show\u001b[1;34m(self, image, **options)\u001b[0m\n\u001b[0;32m     83\u001b[0m     \u001b[38;5;28;01mif\u001b[39;00m image\u001b[38;5;241m.\u001b[39mmode \u001b[38;5;241m!=\u001b[39m base:\n\u001b[0;32m     84\u001b[0m         image \u001b[38;5;241m=\u001b[39m image\u001b[38;5;241m.\u001b[39mconvert(base)\n\u001b[1;32m---> 86\u001b[0m \u001b[38;5;28;01mreturn\u001b[39;00m \u001b[38;5;28mself\u001b[39m\u001b[38;5;241m.\u001b[39mshow_image(image, \u001b[38;5;241m*\u001b[39m\u001b[38;5;241m*\u001b[39moptions)\n",
      "File \u001b[1;32mc:\\ProgramData\\anaconda3\\lib\\site-packages\\PIL\\ImageShow.py:112\u001b[0m, in \u001b[0;36mViewer.show_image\u001b[1;34m(self, image, **options)\u001b[0m\n\u001b[0;32m    110\u001b[0m \u001b[38;5;28;01mdef\u001b[39;00m \u001b[38;5;21mshow_image\u001b[39m(\u001b[38;5;28mself\u001b[39m, image, \u001b[38;5;241m*\u001b[39m\u001b[38;5;241m*\u001b[39moptions):\n\u001b[0;32m    111\u001b[0m     \u001b[38;5;124;03m\"\"\"Display the given image.\"\"\"\u001b[39;00m\n\u001b[1;32m--> 112\u001b[0m     \u001b[38;5;28;01mreturn\u001b[39;00m \u001b[38;5;28mself\u001b[39m\u001b[38;5;241m.\u001b[39mshow_file(\u001b[38;5;28;43mself\u001b[39;49m\u001b[38;5;241;43m.\u001b[39;49m\u001b[43msave_image\u001b[49m\u001b[43m(\u001b[49m\u001b[43mimage\u001b[49m\u001b[43m)\u001b[49m, \u001b[38;5;241m*\u001b[39m\u001b[38;5;241m*\u001b[39moptions)\n",
      "File \u001b[1;32mc:\\ProgramData\\anaconda3\\lib\\site-packages\\PIL\\ImageShow.py:108\u001b[0m, in \u001b[0;36mViewer.save_image\u001b[1;34m(self, image)\u001b[0m\n\u001b[0;32m    106\u001b[0m \u001b[38;5;28;01mdef\u001b[39;00m \u001b[38;5;21msave_image\u001b[39m(\u001b[38;5;28mself\u001b[39m, image):\n\u001b[0;32m    107\u001b[0m     \u001b[38;5;124;03m\"\"\"Save to temporary file and return filename.\"\"\"\u001b[39;00m\n\u001b[1;32m--> 108\u001b[0m     \u001b[38;5;28;01mreturn\u001b[39;00m image\u001b[38;5;241m.\u001b[39m_dump(\u001b[38;5;28mformat\u001b[39m\u001b[38;5;241m=\u001b[39m\u001b[38;5;28mself\u001b[39m\u001b[38;5;241m.\u001b[39mget_format(image), \u001b[38;5;241m*\u001b[39m\u001b[38;5;241m*\u001b[39m\u001b[38;5;28mself\u001b[39m\u001b[38;5;241m.\u001b[39moptions)\n",
      "File \u001b[1;32mc:\\ProgramData\\anaconda3\\lib\\site-packages\\PIL\\Image.py:628\u001b[0m, in \u001b[0;36mImage._dump\u001b[1;34m(self, file, format, **options)\u001b[0m\n\u001b[0;32m    625\u001b[0m     \u001b[38;5;28;01mif\u001b[39;00m \u001b[38;5;129;01mnot\u001b[39;00m filename\u001b[38;5;241m.\u001b[39mendswith(suffix):\n\u001b[0;32m    626\u001b[0m         filename \u001b[38;5;241m=\u001b[39m filename \u001b[38;5;241m+\u001b[39m suffix\n\u001b[1;32m--> 628\u001b[0m \u001b[38;5;28;43mself\u001b[39;49m\u001b[38;5;241;43m.\u001b[39;49m\u001b[43mload\u001b[49m\u001b[43m(\u001b[49m\u001b[43m)\u001b[49m\n\u001b[0;32m    630\u001b[0m \u001b[38;5;28;01mif\u001b[39;00m \u001b[38;5;129;01mnot\u001b[39;00m \u001b[38;5;28mformat\u001b[39m \u001b[38;5;129;01mor\u001b[39;00m \u001b[38;5;28mformat\u001b[39m \u001b[38;5;241m==\u001b[39m \u001b[38;5;124m\"\u001b[39m\u001b[38;5;124mPPM\u001b[39m\u001b[38;5;124m\"\u001b[39m:\n\u001b[0;32m    631\u001b[0m     \u001b[38;5;28mself\u001b[39m\u001b[38;5;241m.\u001b[39mim\u001b[38;5;241m.\u001b[39msave_ppm(filename)\n",
      "File \u001b[1;32mc:\\ProgramData\\anaconda3\\lib\\site-packages\\PIL\\ImageFile.py:288\u001b[0m, in \u001b[0;36mImageFile.load\u001b[1;34m(self)\u001b[0m\n\u001b[0;32m    284\u001b[0m \u001b[38;5;28mself\u001b[39m\u001b[38;5;241m.\u001b[39mfp \u001b[38;5;241m=\u001b[39m \u001b[38;5;28;01mNone\u001b[39;00m\n\u001b[0;32m    286\u001b[0m \u001b[38;5;28;01mif\u001b[39;00m \u001b[38;5;129;01mnot\u001b[39;00m \u001b[38;5;28mself\u001b[39m\u001b[38;5;241m.\u001b[39mmap \u001b[38;5;129;01mand\u001b[39;00m \u001b[38;5;129;01mnot\u001b[39;00m LOAD_TRUNCATED_IMAGES \u001b[38;5;129;01mand\u001b[39;00m err_code \u001b[38;5;241m<\u001b[39m \u001b[38;5;241m0\u001b[39m:\n\u001b[0;32m    287\u001b[0m     \u001b[38;5;66;03m# still raised if decoder fails to return anything\u001b[39;00m\n\u001b[1;32m--> 288\u001b[0m     \u001b[43mraise_oserror\u001b[49m\u001b[43m(\u001b[49m\u001b[43merr_code\u001b[49m\u001b[43m)\u001b[49m\n\u001b[0;32m    290\u001b[0m \u001b[38;5;28;01mreturn\u001b[39;00m Image\u001b[38;5;241m.\u001b[39mImage\u001b[38;5;241m.\u001b[39mload(\u001b[38;5;28mself\u001b[39m)\n",
      "File \u001b[1;32mc:\\ProgramData\\anaconda3\\lib\\site-packages\\PIL\\ImageFile.py:72\u001b[0m, in \u001b[0;36mraise_oserror\u001b[1;34m(error)\u001b[0m\n\u001b[0;32m     70\u001b[0m     msg \u001b[38;5;241m=\u001b[39m \u001b[38;5;124mf\u001b[39m\u001b[38;5;124m\"\u001b[39m\u001b[38;5;124mdecoder error \u001b[39m\u001b[38;5;132;01m{\u001b[39;00merror\u001b[38;5;132;01m}\u001b[39;00m\u001b[38;5;124m\"\u001b[39m\n\u001b[0;32m     71\u001b[0m msg \u001b[38;5;241m+\u001b[39m\u001b[38;5;241m=\u001b[39m \u001b[38;5;124m\"\u001b[39m\u001b[38;5;124m when reading image file\u001b[39m\u001b[38;5;124m\"\u001b[39m\n\u001b[1;32m---> 72\u001b[0m \u001b[38;5;28;01mraise\u001b[39;00m \u001b[38;5;167;01mOSError\u001b[39;00m(msg)\n",
      "\u001b[1;31mOSError\u001b[0m: broken data stream when reading image file"
     ]
    }
   ],
   "source": [
    "from PIL import Image\n",
    "import pytesseract\n",
    "import sympy as sp\n",
    "from PIL import Image, ImageOps, ImageFilter,ImageEnhance\n",
    "import string\n",
    "import requests\n",
    "from io import BytesIO\n",
    "import base64\n",
    "\n",
    "\n",
    "def preprocess_image(image):\n",
    "    # 调整大小\n",
    "    image = image.resize((300, 100))\n",
    "    # 灰度化\n",
    "    image = ImageOps.grayscale(image)\n",
    "    # 二值化\n",
    "    threshold = 150  # 调整阈值\n",
    "    image = image.point(lambda p: p > threshold and 255)\n",
    "\n",
    "    # 去噪\n",
    "    image = image.filter(ImageFilter.MedianFilter(size=3))\n",
    "\n",
    "    # 增强对比度\n",
    "    enhancer = ImageEnhance.Contrast(image)\n",
    "    image = enhancer.enhance(2.0)\n",
    "\n",
    "    # 显示预处理后的图像（可选）\n",
    "    #image.show()\n",
    "\n",
    "    return image\n",
    "\n",
    "# Set the path to the Tesseract executable (update this path according to your installation)\n",
    "pytesseract.pytesseract.tesseract_cmd = r'C:\\Program Files\\Tesseract-OCR\\tesseract.exe'\n",
    "\n",
    "def recognize_and_calculate_result(img_src):\n",
    "    \n",
    "    base64_image=img_src.replace(\"data:image/png;base64,\",\"\")\n",
    "    # 将图片数据读取为二进制流\n",
    "    img_data =  base64.b64decode(base64_image)\n",
    "    with open(\"temp_image.png\", \"wb\") as img_file:\n",
    "        img_file.write(img_data)\n",
    "    # Open the image\n",
    "    image = Image.open(\"temp_image.png\")\n",
    "    image.show()\n",
    "\n",
    "    # Apply preprocessing (you can customize this based on your needs)\n",
    "    image = preprocess_image(image)\n",
    "\n",
    "    # Use Tesseract OCR to extract text from the image\n",
    "    recognize_text = pytesseract.image_to_string(image, config='--psm 6 -c tessedit_char_whitelist=0123456789+/*=?')\n",
    "    expression_text = recognize_text.replace(\"=?\",\"\")\n",
    "\n",
    "    try:\n",
    "        # Evaluate the expression using sympy\n",
    "        result = sp.sympify(expression_text)\n",
    "        return expression_text, result\n",
    "    except sp.SympifyError:\n",
    "        return expression_text, \"Error: Unable to evaluate the expression\"\n",
    "\n",
    "if __name__ == \"__main__\":\n",
    "    # Provide the path to the image containing the math expression\n",
    "\n",
    "    expression, result = recognize_and_calculate_result(img_src)\n",
    "\n",
    "    print(\"Math Expression:\", expression)\n",
    "    print(\"Result:\", result)"
   ]
  },
  {
   "cell_type": "code",
   "execution_count": 60,
   "metadata": {},
   "outputs": [],
   "source": [
    "from PIL import Image\n",
    "import base64\n",
    "from io import BytesIO\n",
    "\n",
    "# 图像数据\n",
    "image_data = \"data:image/png;base64,iVBORw0KGgoAAAANSUhEUgAAAGQAAAAZCAIAAABIPBwcAAACcUlEQVR42q2ZTUpFMQyFsxVBXIAbEHTiApzKQ3Dkvpy4A1fhIpy6CC8USsjPyUnugyLv1Tav/W5ymubK99fn0X5//rptTzQfTlo7OUYPLk0xY3SP7GndmXri/lcXVmsuGJAtr4RFjlnDhCTtBxhbJCMSepdXF1ZryxZW6bf+aXhYDK8MOullmS+HC+g+fgzraDJQltb2Si8IJY+HBXh1nQt8ncAKAWF1LzszC3giDuexiuPokZmUlk+49HZv5AysazmXUaQGLKwFuv/5/UO3Us4ut5dwQBiJdw83u4XPHCw4I/X2dL8br1zCqAM+vwypjNditGEtO5pauGdNajUcdIw3aVIlsgDWIOANqd3ve7SdhWn/zRzKkNqmDCwyNza7ONB4doxcCA6HkpfhknWaGFwt0w5DCidWTG6Mvy5Y5a7TMMTu5rlgzwKwQn3RsHiFfn18wa2EVWb2rGaBMyjTrNCmD8NsARuWF6wZrFBhNKmSVw8Wdq5Q4P0haJQ+W5mX9pAXk8dkZ5QnhfVa+GQ/NATCMIxuLfNAcTQsoPc8Lz8FHIJpGPLXyNCW9iPDa3B/yjTL8AqNkJq1f2jDuppnlZl06EQ8LHBxMbBWP1AuBhZWq9K5JIuU8hw16m7wnYfleQGZZ+7e/nP3GiTMPRnnFkDgxzXSLH0HyQR/UmF1B7yGsDL/Cu86+DFmsMIzES+JKaXysDwvIZNjUqSzJKNVEeZLToNiCRkx4VVJ+BIPDhlcwDsPi7mBkShJOaZOQ1zoAHpclonPeATDi6fAXHupPIv5SVLpWs7V5XWmNjl7ayfk4nhYg7dkg3cHJKxrvYVc7R+b+fKI84ZbqwAAAABJRU5ErkJggg==\"\n",
    "\n",
    "# 去除数据头部\n",
    "base64_data = image_data.replace(\"data:image/png;base64,\", \"\")\n",
    "\n",
    "# 解码 base64 数据\n",
    "image_bytes = base64.b64decode(base64_data)\n",
    "\n",
    "# 读取为图像对象\n",
    "image = Image.open(BytesIO(image_bytes))\n",
    "\n",
    "# 显示图像（可选）\n",
    "image.show()\n"
   ]
  }
 ],
 "metadata": {
  "kernelspec": {
   "display_name": "base",
   "language": "python",
   "name": "python3"
  },
  "language_info": {
   "codemirror_mode": {
    "name": "ipython",
    "version": 3
   },
   "file_extension": ".py",
   "mimetype": "text/x-python",
   "name": "python",
   "nbconvert_exporter": "python",
   "pygments_lexer": "ipython3",
   "version": "3.10.9"
  }
 },
 "nbformat": 4,
 "nbformat_minor": 2
}
